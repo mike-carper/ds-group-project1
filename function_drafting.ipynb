{
 "cells": [
  {
   "cell_type": "code",
   "execution_count": 1,
   "id": "44a243f6",
   "metadata": {},
   "outputs": [],
   "source": [
    "import pandas as pd\n",
    "import numpy as np"
   ]
  },
  {
   "cell_type": "markdown",
   "id": "6802e181",
   "metadata": {},
   "source": [
    "### Project Scope\n",
    "* create a tool to simulate zoning change effects on potential space/housing units\n",
    "\n",
    "#### Next Steps:\n",
    "* outline spatial calculation functions\n",
    "* create dataset of zoning district specifications\n",
    "* create static outputs (i.e. tables depicting \"current\" vs. \"hypothetical\" zoning regs.\n",
    "* determine output format\n",
    "\n",
    "#### Potential Applications:\n",
    "* modeling land use surrounding IBX development\n",
    "* simulating an example neighborhood under various zoning conditions\n",
    "    - e.g. East Midtown - focus on city's current areas of interest\n",
    "    - low density: North Shore Staten Island\n",
    "* simulating strategies to meet housing goal"
   ]
  },
  {
   "cell_type": "markdown",
   "id": "a2daa56f",
   "metadata": {},
   "source": [
    "### Zoning District Specifications"
   ]
  },
  {
   "cell_type": "code",
   "execution_count": 8,
   "id": "b64cc415",
   "metadata": {},
   "outputs": [
    {
     "data": {
      "text/html": [
       "<div>\n",
       "<style scoped>\n",
       "    .dataframe tbody tr th:only-of-type {\n",
       "        vertical-align: middle;\n",
       "    }\n",
       "\n",
       "    .dataframe tbody tr th {\n",
       "        vertical-align: top;\n",
       "    }\n",
       "\n",
       "    .dataframe thead th {\n",
       "        text-align: right;\n",
       "    }\n",
       "</style>\n",
       "<table border=\"1\" class=\"dataframe\">\n",
       "  <thead>\n",
       "    <tr style=\"text-align: right;\">\n",
       "      <th></th>\n",
       "      <th>District</th>\n",
       "      <th>Type</th>\n",
       "      <th>Specification</th>\n",
       "      <th>Specification 2</th>\n",
       "      <th>Min Lot Area (sq ft)</th>\n",
       "      <th>Min Lot Width (ft)</th>\n",
       "      <th>Min Rear Yard (ft)</th>\n",
       "      <th>Lot Coverage Corner (%)</th>\n",
       "      <th>Lot Coverage Other (%)</th>\n",
       "      <th>FAR</th>\n",
       "      <th>Min Base Height (ft)</th>\n",
       "      <th>Max Base Height (ft)</th>\n",
       "      <th>Max Building Height (ft)</th>\n",
       "      <th>Num of Stories</th>\n",
       "      <th>DU Factor</th>\n",
       "      <th>Min Required Parking Basic (% of DU)</th>\n",
       "      <th>Min Required Parking IRHU (% of IRHU)</th>\n",
       "      <th>Min Tower Lot Coverage (%)</th>\n",
       "      <th>Max Tower Lot Coverage (%)</th>\n",
       "      <th>NOTES</th>\n",
       "    </tr>\n",
       "  </thead>\n",
       "  <tbody>\n",
       "    <tr>\n",
       "      <th>0</th>\n",
       "      <td>R7</td>\n",
       "      <td>A</td>\n",
       "      <td>Basic</td>\n",
       "      <td>NaN</td>\n",
       "      <td>1700</td>\n",
       "      <td>18</td>\n",
       "      <td>30</td>\n",
       "      <td>1</td>\n",
       "      <td>0.65</td>\n",
       "      <td>4.0</td>\n",
       "      <td>40</td>\n",
       "      <td>65</td>\n",
       "      <td>80.0</td>\n",
       "      <td>NaN</td>\n",
       "      <td>680</td>\n",
       "      <td>0.5</td>\n",
       "      <td>0.15</td>\n",
       "      <td>NaN</td>\n",
       "      <td>NaN</td>\n",
       "      <td>NaN</td>\n",
       "    </tr>\n",
       "    <tr>\n",
       "      <th>1</th>\n",
       "      <td>R7</td>\n",
       "      <td>A</td>\n",
       "      <td>Mandatory Inclusionary Housing</td>\n",
       "      <td>NaN</td>\n",
       "      <td>1700</td>\n",
       "      <td>18</td>\n",
       "      <td>30</td>\n",
       "      <td>1</td>\n",
       "      <td>0.65</td>\n",
       "      <td>4.6</td>\n",
       "      <td>40</td>\n",
       "      <td>75</td>\n",
       "      <td>90.0</td>\n",
       "      <td>9.0</td>\n",
       "      <td>680</td>\n",
       "      <td>0.5</td>\n",
       "      <td>0.15</td>\n",
       "      <td>NaN</td>\n",
       "      <td>NaN</td>\n",
       "      <td>NaN</td>\n",
       "    </tr>\n",
       "    <tr>\n",
       "      <th>2</th>\n",
       "      <td>R7</td>\n",
       "      <td>B</td>\n",
       "      <td>Basic</td>\n",
       "      <td>NaN</td>\n",
       "      <td>1700</td>\n",
       "      <td>18</td>\n",
       "      <td>30</td>\n",
       "      <td>1</td>\n",
       "      <td>0.65</td>\n",
       "      <td>3.0</td>\n",
       "      <td>40</td>\n",
       "      <td>65</td>\n",
       "      <td>75.0</td>\n",
       "      <td>NaN</td>\n",
       "      <td>680</td>\n",
       "      <td>0.5</td>\n",
       "      <td>0.25</td>\n",
       "      <td>NaN</td>\n",
       "      <td>NaN</td>\n",
       "      <td>NaN</td>\n",
       "    </tr>\n",
       "    <tr>\n",
       "      <th>3</th>\n",
       "      <td>R7</td>\n",
       "      <td>D</td>\n",
       "      <td>Basic</td>\n",
       "      <td>NaN</td>\n",
       "      <td>1700</td>\n",
       "      <td>18</td>\n",
       "      <td>30</td>\n",
       "      <td>1</td>\n",
       "      <td>0.65</td>\n",
       "      <td>4.2</td>\n",
       "      <td>60</td>\n",
       "      <td>85</td>\n",
       "      <td>100.0</td>\n",
       "      <td>NaN</td>\n",
       "      <td>680</td>\n",
       "      <td>0.5</td>\n",
       "      <td>0.15</td>\n",
       "      <td>NaN</td>\n",
       "      <td>NaN</td>\n",
       "      <td>NaN</td>\n",
       "    </tr>\n",
       "    <tr>\n",
       "      <th>4</th>\n",
       "      <td>R7</td>\n",
       "      <td>D</td>\n",
       "      <td>Mandatory Inclusionary Housing</td>\n",
       "      <td>NaN</td>\n",
       "      <td>1700</td>\n",
       "      <td>18</td>\n",
       "      <td>30</td>\n",
       "      <td>1</td>\n",
       "      <td>0.65</td>\n",
       "      <td>5.6</td>\n",
       "      <td>60</td>\n",
       "      <td>95</td>\n",
       "      <td>110.0</td>\n",
       "      <td>11.0</td>\n",
       "      <td>680</td>\n",
       "      <td>0.5</td>\n",
       "      <td>0.15</td>\n",
       "      <td>NaN</td>\n",
       "      <td>NaN</td>\n",
       "      <td>NaN</td>\n",
       "    </tr>\n",
       "  </tbody>\n",
       "</table>\n",
       "</div>"
      ],
      "text/plain": [
       "  District Type                   Specification Specification 2  \\\n",
       "0       R7    A                           Basic             NaN   \n",
       "1       R7    A  Mandatory Inclusionary Housing             NaN   \n",
       "2       R7    B                           Basic             NaN   \n",
       "3       R7    D                           Basic             NaN   \n",
       "4       R7    D  Mandatory Inclusionary Housing             NaN   \n",
       "\n",
       "   Min Lot Area (sq ft)  Min Lot Width (ft)  Min Rear Yard (ft)  \\\n",
       "0                  1700                  18                  30   \n",
       "1                  1700                  18                  30   \n",
       "2                  1700                  18                  30   \n",
       "3                  1700                  18                  30   \n",
       "4                  1700                  18                  30   \n",
       "\n",
       "   Lot Coverage Corner (%)  Lot Coverage Other (%)  FAR  Min Base Height (ft)  \\\n",
       "0                        1                    0.65  4.0                    40   \n",
       "1                        1                    0.65  4.6                    40   \n",
       "2                        1                    0.65  3.0                    40   \n",
       "3                        1                    0.65  4.2                    60   \n",
       "4                        1                    0.65  5.6                    60   \n",
       "\n",
       "   Max Base Height (ft)  Max Building Height (ft)  Num of Stories  DU Factor  \\\n",
       "0                    65                      80.0             NaN        680   \n",
       "1                    75                      90.0             9.0        680   \n",
       "2                    65                      75.0             NaN        680   \n",
       "3                    85                     100.0             NaN        680   \n",
       "4                    95                     110.0            11.0        680   \n",
       "\n",
       "   Min Required Parking Basic (% of DU)  \\\n",
       "0                                   0.5   \n",
       "1                                   0.5   \n",
       "2                                   0.5   \n",
       "3                                   0.5   \n",
       "4                                   0.5   \n",
       "\n",
       "   Min Required Parking IRHU (% of IRHU)  Min Tower Lot Coverage (%)  \\\n",
       "0                                   0.15                         NaN   \n",
       "1                                   0.15                         NaN   \n",
       "2                                   0.25                         NaN   \n",
       "3                                   0.15                         NaN   \n",
       "4                                   0.15                         NaN   \n",
       "\n",
       "   Max Tower Lot Coverage (%) NOTES  \n",
       "0                         NaN   NaN  \n",
       "1                         NaN   NaN  \n",
       "2                         NaN   NaN  \n",
       "3                         NaN   NaN  \n",
       "4                         NaN   NaN  "
      ]
     },
     "execution_count": 8,
     "metadata": {},
     "output_type": "execute_result"
    }
   ],
   "source": [
    "zoning_districts = pd.read_csv('residential_zoning_districts.csv')\n",
    "zoning_districts.head()"
   ]
  },
  {
   "cell_type": "markdown",
   "id": "7d4cdac9",
   "metadata": {},
   "source": [
    "### PLUTO Sample"
   ]
  },
  {
   "cell_type": "code",
   "execution_count": 3,
   "id": "8d31d54c",
   "metadata": {
    "scrolled": true
   },
   "outputs": [
    {
     "name": "stderr",
     "output_type": "stream",
     "text": [
      "C:\\Users\\m_carper\\AppData\\Local\\Temp\\ipykernel_53276\\4044160878.py:1: DtypeWarning: Columns (21,22,24,26,28) have mixed types. Specify dtype option on import or set low_memory=False.\n",
      "  pluto = pd.read_csv('pluto_22v3.csv')\n"
     ]
    },
    {
     "data": {
      "text/plain": [
       "(858619, 92)"
      ]
     },
     "execution_count": 3,
     "metadata": {},
     "output_type": "execute_result"
    }
   ],
   "source": [
    "pluto = pd.read_csv('pluto_22v3.csv')\n",
    "pluto.shape"
   ]
  },
  {
   "cell_type": "code",
   "execution_count": 6,
   "id": "b90ba501",
   "metadata": {},
   "outputs": [
    {
     "data": {
      "text/plain": [
       "(4252, 92)"
      ]
     },
     "execution_count": 6,
     "metadata": {},
     "output_type": "execute_result"
    }
   ],
   "source": [
    "pluto_LES_sample = pluto[pluto['cd']==103]\n",
    "pluto_LES_sample.shape"
   ]
  },
  {
   "cell_type": "code",
   "execution_count": 7,
   "id": "6b3dce46",
   "metadata": {},
   "outputs": [],
   "source": [
    "pluto_LES_sample.to_csv('pluto_22v3_sample_LES.csv')"
   ]
  },
  {
   "cell_type": "markdown",
   "id": "723e139e",
   "metadata": {},
   "source": [
    "### Calculation Functions"
   ]
  },
  {
   "cell_type": "code",
   "execution_count": null,
   "id": "90812de9",
   "metadata": {},
   "outputs": [],
   "source": [
    "def lot_floor_area(zoning_districts, zoning_district, district_type, lot_width, lot_length):\n",
    "    district = res_dict[res_dict['District']==zoning_district]\n",
    "    district_type = district[district['Type']==district_type]\n",
    "    \n",
    "    lot_area = lot_width*lot_length\n",
    "    floor_area = far*lot_area\n",
    "    \n",
    "    return floor_area"
   ]
  },
  {
   "cell_type": "code",
   "execution_count": null,
   "id": "2320ea17",
   "metadata": {},
   "outputs": [],
   "source": [
    "def num_units(zoning_district, lot_width, lot_length, type_of_unit):\n",
    "    \n",
    "    return unit_count"
   ]
  },
  {
   "cell_type": "markdown",
   "id": "2919d40c",
   "metadata": {},
   "source": [
    "### Archive"
   ]
  },
  {
   "cell_type": "code",
   "execution_count": null,
   "id": "8454cc1b",
   "metadata": {},
   "outputs": [],
   "source": [
    "# floor area ratio\n",
    "far = \n",
    "setback = \n",
    "max_height = \n",
    "max_lot_coverage = \n",
    "dwelling_unit_factor = \n",
    "\n",
    "lot_width = \n",
    "lot_length =  "
   ]
  }
 ],
 "metadata": {
  "kernelspec": {
   "display_name": "Python 3 (ipykernel)",
   "language": "python",
   "name": "python3"
  },
  "language_info": {
   "codemirror_mode": {
    "name": "ipython",
    "version": 3
   },
   "file_extension": ".py",
   "mimetype": "text/x-python",
   "name": "python",
   "nbconvert_exporter": "python",
   "pygments_lexer": "ipython3",
   "version": "3.9.12"
  }
 },
 "nbformat": 4,
 "nbformat_minor": 5
}
