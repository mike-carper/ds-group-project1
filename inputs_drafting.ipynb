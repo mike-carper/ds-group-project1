{
 "cells": [
  {
   "cell_type": "code",
   "execution_count": 1,
   "id": "829ad092",
   "metadata": {},
   "outputs": [],
   "source": [
    "import pandas as pd\n",
    "import numpy as np"
   ]
  },
  {
   "cell_type": "code",
   "execution_count": null,
   "id": "927b0118",
   "metadata": {},
   "outputs": [],
   "source": [
    "# create dataframe WHERE:\n",
    "# index = zoning districts\n",
    "# columns = inputs (far, max_height, etc.)"
   ]
  },
  {
   "cell_type": "code",
   "execution_count": null,
   "id": "74d718e6",
   "metadata": {},
   "outputs": [],
   "source": [
    "# floor area ratio\n",
    "far = \n",
    "setback = \n",
    "max_height = \n",
    "max_lot_coverage = \n",
    "dwelling_unit_factor = \n",
    "\n",
    "lot_width = \n",
    "lot_length =  "
   ]
  },
  {
   "cell_type": "code",
   "execution_count": null,
   "id": "54fd7bea",
   "metadata": {},
   "outputs": [],
   "source": [
    "def lot_space(zoning_district, lot_width, lot_length):\n",
    "    lot_area = lot_width*lot_length\n",
    "    floor_area = far*lot_area\n",
    "    # \n",
    "    return floor_area"
   ]
  },
  {
   "cell_type": "code",
   "execution_count": null,
   "id": "309fcb08",
   "metadata": {},
   "outputs": [],
   "source": [
    "def num_units(zoning_district, lot_width, lot_length, type_of_unit):\n",
    "    # \n",
    "    # \n",
    "    return unit_count"
   ]
  }
 ],
 "metadata": {
  "kernelspec": {
   "display_name": "Python 3 (ipykernel)",
   "language": "python",
   "name": "python3"
  },
  "language_info": {
   "codemirror_mode": {
    "name": "ipython",
    "version": 3
   },
   "file_extension": ".py",
   "mimetype": "text/x-python",
   "name": "python",
   "nbconvert_exporter": "python",
   "pygments_lexer": "ipython3",
   "version": "3.9.12"
  }
 },
 "nbformat": 4,
 "nbformat_minor": 5
}
